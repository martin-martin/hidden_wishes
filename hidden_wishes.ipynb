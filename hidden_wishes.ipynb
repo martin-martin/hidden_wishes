{
 "cells": [
  {
   "cell_type": "markdown",
   "metadata": {},
   "source": [
    "# A tiny birthday hack\n",
    "\n",
    "## Which author sent me the largest amount of secret birthday wishes?\n",
    "\n",
    "Programming on my birthday in the back of a car, after driving and walking around :)"
   ]
  },
  {
   "cell_type": "code",
   "execution_count": 1,
   "metadata": {
    "collapsed": true
   },
   "outputs": [],
   "source": [
    "import nltk\n",
    "from nltk.corpus import gutenberg as gb\n",
    "import re"
   ]
  },
  {
   "cell_type": "code",
   "execution_count": 4,
   "metadata": {
    "collapsed": false
   },
   "outputs": [],
   "source": [
    "# shopping for ingredients\n",
    "all_books = gb.fileids()"
   ]
  },
  {
   "cell_type": "code",
   "execution_count": 71,
   "metadata": {
    "collapsed": true
   },
   "outputs": [],
   "source": [
    "def get_ingredients(booktitle):\n",
    "    \"\"\"selects only the best ingredients for the cake\"\"\"\n",
    "    happy_regex = re.compile(r\"(?i)[^hapybirthd]\")\n",
    "    text = gb.raw(fileids=booktitle)\n",
    "    dough = re.sub(happy_regex, \"\", text)\n",
    "    return dough\n",
    "\n",
    "def knead(dough):\n",
    "    \"\"\"kneads <span>s into the dough, wherever wishes match.\"\"\"\n",
    "    # two-step regex\n",
    "    b_regex = re.compile(r\"happy\")\n",
    "    d_regex = re.compile(r\"birthday\")\n",
    "    # stats for fun\n",
    "    nr_happies = len(re.findall(b_regex, dough))\n",
    "    nr_birthdays = len(re.findall(d_regex, dough))\n",
    "    icing = (nr_happies, nr_birthdays)\n",
    "    # mark the occurances with <span>s\n",
    "    b_text = re.sub(b_regex, \"<span>\" + b_regex.pattern + \"</span>\", dough)\n",
    "    d_text = re.sub(d_regex, \"<span>\" + d_regex.pattern + \"</span>\", b_text)\n",
    "    cake = d_text\n",
    "    return cake, icing\n",
    "\n",
    "def bake(cake, icing, ingredients):\n",
    "    \"\"\"bakes a HTML page from the highlighted dough.\"\"\"\n",
    "    with open(\"bd_\" + ingredients + \".html\", 'w') as f:\n",
    "        pretty_file = \"\"\"<DOCTYPE html>\n",
    "<html>\n",
    "<head>\n",
    "  <title>\"\"\" + ingredients + \"\"\"</title>\n",
    "  <style>\n",
    "    body {\n",
    "      max-width: 800px;\n",
    "      margin: auto;\n",
    "      word-wrap: break-word;\n",
    "    }\n",
    "    span {\n",
    "      background: lightgreen;\n",
    "    }\n",
    "  </style>\n",
    "</head>\n",
    "<body>\n",
    "  <h1>Birthday Wishes hidden in \"\"\" + ingredients + \"\"\"</h1>\n",
    "  <h2># of happies: \"\"\" + str(icing[0]) + \"\"\"</h2>\n",
    "  <h2># of birthdays: \"\"\" + str(icing[1]) + \"\"\"</h2>\n",
    "  <div>\"\"\" + cake + \"\"\"</div>\n",
    "</body>\n",
    "</html>\"\"\"\n",
    "        f.write(pretty_file)\n",
    "        \n",
    "def tons_of_wishes(book_list):\n",
    "    \"\"\"makes a lot of cakes at once. because age.\"\"\"\n",
    "    for book in book_list:\n",
    "        ingredients = book\n",
    "        cake, icing = knead(get_ingredients(ingredients))\n",
    "        bake(cake, icing, ingredients)"
   ]
  },
  {
   "cell_type": "code",
   "execution_count": 80,
   "metadata": {
    "collapsed": false
   },
   "outputs": [],
   "source": [
    "# happy birthday to myself :)\n",
    "tons_of_wishes(all_books)"
   ]
  },
  {
   "cell_type": "markdown",
   "metadata": {},
   "source": [
    "I uncovered the (by far!) largest number of hidden wishes in `edgeworth-parents.txt`. Thanks mum and dad 😊"
   ]
  },
  {
   "cell_type": "code",
   "execution_count": 46,
   "metadata": {
    "collapsed": false
   },
   "outputs": [],
   "source": [
    "# interesting challenge: try using regex groups for matching and replacing!\n",
    "#birth_regex = re.compile(r\"(happy)\\w*(birthday)\")\n",
    "#m = re.match(r\"(happy)\\w*(birthday)\", dough)\n",
    "#m.groups()"
   ]
  }
 ],
 "metadata": {
  "anaconda-cloud": {},
  "kernelspec": {
   "display_name": "Python [conda env:car]",
   "language": "python",
   "name": "conda-env-car-py"
  },
  "language_info": {
   "codemirror_mode": {
    "name": "ipython",
    "version": 3
   },
   "file_extension": ".py",
   "mimetype": "text/x-python",
   "name": "python",
   "nbconvert_exporter": "python",
   "pygments_lexer": "ipython3",
   "version": "3.5.2"
  }
 },
 "nbformat": 4,
 "nbformat_minor": 1
}
